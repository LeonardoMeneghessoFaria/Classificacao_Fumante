{
 "cells": [
  {
   "cell_type": "markdown",
   "id": "2787bebf",
   "metadata": {},
   "source": [
    "# 0.0. IMPORTS"
   ]
  },
  {
   "cell_type": "code",
   "execution_count": 42,
   "id": "b53f1376",
   "metadata": {
    "ExecuteTime": {
     "end_time": "2022-01-14T14:32:11.557821Z",
     "start_time": "2022-01-14T14:32:11.543854Z"
    }
   },
   "outputs": [],
   "source": [
    "import pandas                  as pd\n",
    "import streamlit               as st\n",
    "import joblib\n",
    "import sqlite3 \n",
    "import inflection\n",
    "import seaborn                 as sns\n",
    "import numpy                   as np\n",
    "import matplotlib.pyplot       as plt\n",
    "import xgboost                 as xgb\n",
    "import random                  as rd\n",
    "import pickle\n",
    "import os\n",
    "\n",
    "from sklearn.model_selection   import train_test_split, StratifiedKFold\n",
    "from lightgbm                  import LGBMClassifier\n",
    "from sklearn.naive_bayes       import GaussianNB\n",
    "from sklearn.ensemble          import ExtraTreesClassifier, RandomForestClassifier\n",
    "from sklearn.preprocessing     import RobustScaler,StandardScaler, MinMaxScaler\n",
    "from sklearn.preprocessing     import StandardScaler\n",
    "from sklearn.model_selection   import train_test_split, KFold, cross_validate, GridSearchCV\n",
    "from IPython.display           import Image\n",
    "from IPython.core.display      import HTML\n",
    "from boruta                    import BorutaPy\n",
    "from sklearn.model_selection   import StratifiedShuffleSplit as sss\n",
    "from sklearn.pipeline          import Pipeline\n",
    "from sklearn.preprocessing     import OneHotEncoder\n",
    "from sklearn.compose           import ColumnTransformer\n",
    "from sklearn.linear_model      import LogisticRegression\n",
    "from sklearn.neighbors         import KNeighborsClassifier\n",
    "from sklearn.metrics           import f1_score, precision_score, recall_score\n",
    "\n",
    "\n",
    "from sklearn                   import metrics            as m\n",
    "from sklearn                   import neighbors          as nh\n",
    "from sklearn                   import ensemble           as en\n",
    "from sklearn                   import model_selection    as ms\n",
    "from scipy                     import stats              as ss"
   ]
  },
  {
   "cell_type": "markdown",
   "id": "785a9b90",
   "metadata": {},
   "source": [
    "## 0.1. Helper Functions"
   ]
  },
  {
   "cell_type": "code",
   "execution_count": 2,
   "id": "b3b2c070",
   "metadata": {
    "ExecuteTime": {
     "end_time": "2022-01-14T14:25:06.186781Z",
     "start_time": "2022-01-14T14:25:06.172838Z"
    }
   },
   "outputs": [],
   "source": [
    "def cramer_v( x, y ):\n",
    "    cm = pd.crosstab( x, y ).to_numpy()\n",
    "    n = cm.sum()\n",
    "    r, k = cm.shape\n",
    "    chi2 = ss.chi2_contingency( cm )[0]\n",
    "    chi2corr = max( 0, chi2 - (k-1)*(r-1)/(n-1) )\n",
    "    kcorr = k - (k-1)**2/(n-1)\n",
    "    rcorr = r - (r-1)**2/(n-1)\n",
    "    return np.sqrt( (chi2corr/n) / ( min( kcorr-1, rcorr-1 ) ) )\n",
    "\n",
    "def jupyter_settings():\n",
    "    %matplotlib inline\n",
    "    %pylab inline\n",
    "    \n",
    "    plt.style.use( 'bmh' )\n",
    "    plt.rcParams['figure.figsize'] = [25, 12]\n",
    "    plt.rcParams['font.size'] = 24\n",
    "    \n",
    "    display( HTML( '<style>.container { width:100% !important; }</style>') )\n",
    "    pd.options.display.max_columns = None\n",
    "    pd.options.display.max_rows = None\n",
    "    pd.set_option( 'display.expand_frame_repr', False )\n",
    "    \n",
    "    sns.set()\n",
    "\n",
    "def ml_error(model_name, precision, recall, f1_score):\n",
    "    return pd.DataFrame ({'Model Name': model_name,\n",
    "                          'Precision': precision,\n",
    "                          'Recall': recall,\n",
    "                          'F1_score': f1_score}, index = [0])\n"
   ]
  },
  {
   "cell_type": "code",
   "execution_count": 3,
   "id": "70375978",
   "metadata": {
    "ExecuteTime": {
     "end_time": "2022-01-14T14:25:06.450816Z",
     "start_time": "2022-01-14T14:25:06.188771Z"
    }
   },
   "outputs": [
    {
     "name": "stdout",
     "output_type": "stream",
     "text": [
      "Populating the interactive namespace from numpy and matplotlib\n"
     ]
    },
    {
     "data": {
      "text/html": [
       "<style>.container { width:100% !important; }</style>"
      ],
      "text/plain": [
       "<IPython.core.display.HTML object>"
      ]
     },
     "metadata": {},
     "output_type": "display_data"
    }
   ],
   "source": [
    "jupyter_settings()"
   ]
  },
  {
   "cell_type": "markdown",
   "id": "be1f3caf",
   "metadata": {},
   "source": [
    "## 0.2. Loading data"
   ]
  },
  {
   "cell_type": "code",
   "execution_count": null,
   "id": "aeca434c",
   "metadata": {
    "ExecuteTime": {
     "end_time": "2022-01-14T14:25:07.012110Z",
     "start_time": "2022-01-14T14:25:06.452811Z"
    },
    "scrolled": true
   },
   "outputs": [],
   "source": [
    "df_raw = pd.read_csv('C:/Users/leo_m/repos/Projeto Menzoil/dataset/DF Cientista de dados Jr.csv')\n",
    "df_raw"
   ]
  },
  {
   "cell_type": "code",
   "execution_count": null,
   "id": "aa93cd7a",
   "metadata": {
    "ExecuteTime": {
     "end_time": "2022-06-27T15:05:14.988519Z",
     "start_time": "2022-06-27T15:05:14.688786Z"
    },
    "scrolled": true
   },
   "outputs": [],
   "source": [
    "df_raw['Fumante'] = df_raw['Fumante'].map({'yes':1, 'no':0})\n",
    "df_etl = df_raw.copy()\n",
    "df_etl"
   ]
  },
  {
   "cell_type": "markdown",
   "id": "3ed4f1d8",
   "metadata": {},
   "source": [
    "## 0.3. Feature Engineering for ETL"
   ]
  },
  {
   "cell_type": "code",
   "execution_count": null,
   "id": "0be21349",
   "metadata": {
    "ExecuteTime": {
     "end_time": "2022-01-14T14:25:07.675307Z",
     "start_time": "2022-01-14T14:25:07.282358Z"
    }
   },
   "outputs": [],
   "source": [
    "# classificaçao_corporal\n",
    "df_etl['Classificaçao_corporal'] = df_etl['IMC'].apply( lambda x: 'thinness' if x < 18.5  else 'normal' if (x >= 18.5) & (x < 24.9) else 'overweight' if (x >= 24.9) & (x < 30) else 'obese' )\n",
    "\n",
    "# fase_da_vida\n",
    "df_etl['Fase_da_vida'] = df_etl['Idade'].apply( lambda x: 'kid' if x < 12  else 'teenager' if (x >= 12) & (x < 18) else 'adult' if (x >= 18) & (x < 60) else 'elderly' )\n",
    "\n",
    "# regiao_geral\n",
    "df_etl['Regiao_geral'] = df_etl['Regiao'].apply( lambda x: 'south' if (x == 'southwest') or (x == 'southeast')  else 'north')\n",
    "df_etl"
   ]
  },
  {
   "cell_type": "markdown",
   "id": "5cad4328",
   "metadata": {},
   "source": [
    "## 0.4. Loading data in SQLITE"
   ]
  },
  {
   "cell_type": "code",
   "execution_count": 7,
   "id": "62202301",
   "metadata": {
    "ExecuteTime": {
     "end_time": "2022-01-14T14:25:07.690267Z",
     "start_time": "2022-01-14T14:25:07.676305Z"
    }
   },
   "outputs": [],
   "source": [
    "#con = sqlite3.connect('C:/Users/leo_m/repos/Projeto Menzoil/sqlite/SQLite_DB.db')\n",
    "#\n",
    "#cur = con.cursor()\n",
    "#\n",
    "#for index,row in df_etl.iterrows():\n",
    "#       cur.execute(\"\"\"INSERT INTO Dados_Fumantes (Idade, Sexo, IMC, Filhos, Fumante, Regiao, Custos, Classificaçao_corporal, Fase_da_vida, Regiao_geral) \n",
    "#       VALUES (\"\"\" + str(row['Idade']) + \",\" + '\"' + row['Sexo'] + '\"' + \",\" + str(row['IMC']) + \",\" + str(row['Filhos']) + \",\" \n",
    "#                   + str(row['Fumante']) + \",\" + '\"' + row['Regiao'] + '\"' + \",\" + str(row['Custos']) + \",\"  + '\"' + row['Classificaçao_corporal'] + '\"'+ \",\"  + '\"' + row['Fase_da_vida'] + '\"' \n",
    "#                   + \",\"  + '\"' + row['Regiao_geral'] + '\"' + \");\")\n",
    "#    \n",
    "#\n",
    "#con.commit()\n",
    "#\n",
    "#\n",
    "#con.close()"
   ]
  },
  {
   "cell_type": "markdown",
   "id": "30ef17b9",
   "metadata": {},
   "source": [
    "## 0.5. Loading data from SQLITE"
   ]
  },
  {
   "cell_type": "code",
   "execution_count": null,
   "id": "f45e17a5",
   "metadata": {
    "ExecuteTime": {
     "end_time": "2022-01-14T14:25:09.247035Z",
     "start_time": "2022-01-14T14:25:07.692262Z"
    }
   },
   "outputs": [],
   "source": [
    "con = sqlite3.connect('C:/Users/leo_m/repos/Projeto Menzoil/sqlite/SQLite_DB.db')\n",
    "\n",
    "cur = con.cursor()\n",
    "#df = pd.DataFrame(cur.execute(\"\"\"SELECT Idade,Sexo,IMC, Filhos, Fumante, Regiao, Custos FROM Dados_Fumantes\"\"\").fetchall())\n",
    "\n",
    "df = pd.read_sql_query(\"\"\"SELECT Idade,Sexo,IMC, Filhos, Fumante, Regiao, Custos, Classificaçao_corporal, Fase_da_vida, Regiao_geral  FROM Dados_Fumantes\"\"\", con)\n",
    "\n",
    "con.close()\n",
    "df = df.rename(columns={0: 'Idade',1: 'Sexo',2:'IMC',3:'Filhos',4:'Fumante',5:'Regiao',6:'Custos'})"
   ]
  },
  {
   "cell_type": "code",
   "execution_count": null,
   "id": "3c7a2744",
   "metadata": {
    "ExecuteTime": {
     "end_time": "2022-01-14T14:25:09.595073Z",
     "start_time": "2022-01-14T14:25:09.248999Z"
    }
   },
   "outputs": [],
   "source": [
    "df"
   ]
  },
  {
   "cell_type": "markdown",
   "id": "1d0b6d4d",
   "metadata": {},
   "source": [
    "# 1.0. PASSO 01 - DATA DESCRIPTION"
   ]
  },
  {
   "cell_type": "code",
   "execution_count": 10,
   "id": "0bda43d5",
   "metadata": {
    "ExecuteTime": {
     "end_time": "2022-01-14T14:25:09.611064Z",
     "start_time": "2022-01-14T14:25:09.596070Z"
    }
   },
   "outputs": [],
   "source": [
    "df1 = df.copy()"
   ]
  },
  {
   "cell_type": "markdown",
   "id": "f6a41c05",
   "metadata": {
    "ExecuteTime": {
     "end_time": "2019-11-10T11:26:41.736121Z",
     "start_time": "2019-11-10T11:26:41.732986Z"
    }
   },
   "source": [
    "## 1.1. Rename Columns"
   ]
  },
  {
   "cell_type": "code",
   "execution_count": null,
   "id": "321e9c74",
   "metadata": {
    "ExecuteTime": {
     "end_time": "2022-01-14T14:25:10.096731Z",
     "start_time": "2022-01-14T14:25:09.612029Z"
    }
   },
   "outputs": [],
   "source": [
    "df1['Fumante'] = df1['Fumante'].map({1: 'yes', 0:'no'})\n",
    "\n",
    "cols_old = ['Idade', 'Sexo', 'IMC', 'Filhos', 'Fumante', 'Regiao', 'Custos', 'Classificaçao_corporal', 'Fase_da_vida', 'Regiao_geral']\n",
    "\n",
    "snakecase = lambda x: inflection.underscore( x )\n",
    "\n",
    "cols_new = list( map( snakecase, cols_old ) )\n",
    "\n",
    "# rename\n",
    "df1.columns = cols_new\n",
    "df1"
   ]
  },
  {
   "cell_type": "markdown",
   "id": "0c461208",
   "metadata": {
    "ExecuteTime": {
     "end_time": "2019-11-10T11:26:41.736121Z",
     "start_time": "2019-11-10T11:26:41.732986Z"
    }
   },
   "source": [
    "## 1.2. Data Dimensions"
   ]
  },
  {
   "cell_type": "code",
   "execution_count": 12,
   "id": "c0dc4c61",
   "metadata": {
    "ExecuteTime": {
     "end_time": "2022-01-14T14:25:10.112687Z",
     "start_time": "2022-01-14T14:25:10.097729Z"
    }
   },
   "outputs": [
    {
     "name": "stdout",
     "output_type": "stream",
     "text": [
      "Number of Rows: 1338\n",
      "Number of Cols: 10\n"
     ]
    }
   ],
   "source": [
    "print( 'Number of Rows: {}'.format( df1.shape[0] ) )\n",
    "print( 'Number of Cols: {}'.format( df1.shape[1] ) )"
   ]
  },
  {
   "cell_type": "markdown",
   "id": "6fad69fc",
   "metadata": {
    "ExecuteTime": {
     "end_time": "2019-11-10T11:26:41.736121Z",
     "start_time": "2019-11-10T11:26:41.732986Z"
    }
   },
   "source": [
    "## 1.3. Data Types"
   ]
  },
  {
   "cell_type": "code",
   "execution_count": 13,
   "id": "6bdb5e2e",
   "metadata": {
    "ExecuteTime": {
     "end_time": "2022-01-14T14:25:10.205440Z",
     "start_time": "2022-01-14T14:25:10.113700Z"
    }
   },
   "outputs": [
    {
     "data": {
      "text/plain": [
       "idade                       int64\n",
       "sexo                       object\n",
       "imc                       float64\n",
       "filhos                      int64\n",
       "fumante                    object\n",
       "regiao                     object\n",
       "custos                    float64\n",
       "classificaçao_corporal     object\n",
       "fase_da_vida               object\n",
       "regiao_geral               object\n",
       "dtype: object"
      ]
     },
     "execution_count": 13,
     "metadata": {},
     "output_type": "execute_result"
    }
   ],
   "source": [
    "df1.dtypes"
   ]
  },
  {
   "cell_type": "markdown",
   "id": "3c9e6d6d",
   "metadata": {
    "ExecuteTime": {
     "end_time": "2019-11-10T11:26:41.736121Z",
     "start_time": "2019-11-10T11:26:41.732986Z"
    }
   },
   "source": [
    "## 1.4. Check NA"
   ]
  },
  {
   "cell_type": "code",
   "execution_count": 14,
   "id": "1ac08c5d",
   "metadata": {
    "ExecuteTime": {
     "end_time": "2022-01-14T14:25:10.316144Z",
     "start_time": "2022-01-14T14:25:10.206437Z"
    }
   },
   "outputs": [
    {
     "data": {
      "text/plain": [
       "idade                     0\n",
       "sexo                      0\n",
       "imc                       0\n",
       "filhos                    0\n",
       "fumante                   0\n",
       "regiao                    0\n",
       "custos                    0\n",
       "classificaçao_corporal    0\n",
       "fase_da_vida              0\n",
       "regiao_geral              0\n",
       "dtype: int64"
      ]
     },
     "execution_count": 14,
     "metadata": {},
     "output_type": "execute_result"
    }
   ],
   "source": [
    "df1.isna().sum()"
   ]
  },
  {
   "cell_type": "code",
   "execution_count": 15,
   "id": "05f9f6e7",
   "metadata": {
    "ExecuteTime": {
     "end_time": "2022-01-14T14:25:10.440839Z",
     "start_time": "2022-01-14T14:25:10.317141Z"
    }
   },
   "outputs": [
    {
     "data": {
      "text/plain": [
       "idade                     0\n",
       "sexo                      0\n",
       "imc                       0\n",
       "filhos                    0\n",
       "fumante                   0\n",
       "regiao                    0\n",
       "custos                    0\n",
       "classificaçao_corporal    0\n",
       "fase_da_vida              0\n",
       "regiao_geral              0\n",
       "dtype: int64"
      ]
     },
     "execution_count": 15,
     "metadata": {},
     "output_type": "execute_result"
    }
   ],
   "source": [
    "(df1 == '?').sum(axis=0)"
   ]
  },
  {
   "cell_type": "markdown",
   "id": "f7672bec",
   "metadata": {
    "ExecuteTime": {
     "end_time": "2019-11-10T11:26:41.736121Z",
     "start_time": "2019-11-10T11:26:41.732986Z"
    }
   },
   "source": [
    "## 1.5. Descriptive Statistics"
   ]
  },
  {
   "cell_type": "code",
   "execution_count": 16,
   "id": "cc7ffa7d",
   "metadata": {
    "ExecuteTime": {
     "end_time": "2022-01-14T14:25:10.596424Z",
     "start_time": "2022-01-14T14:25:10.441820Z"
    }
   },
   "outputs": [],
   "source": [
    "num_attributes = df1.select_dtypes( include=['int64', 'float64'] )\n",
    "cat_attributes = df1.select_dtypes( exclude=['int64', 'float64', 'datetime64[ns]'] )"
   ]
  },
  {
   "cell_type": "markdown",
   "id": "2e238db6",
   "metadata": {
    "ExecuteTime": {
     "end_time": "2019-11-10T11:26:41.736121Z",
     "start_time": "2019-11-10T11:26:41.732986Z"
    },
    "heading_collapsed": true
   },
   "source": [
    "### 1.5.1. Numerical Atributes"
   ]
  },
  {
   "cell_type": "code",
   "execution_count": 17,
   "id": "1c960dd4",
   "metadata": {
    "ExecuteTime": {
     "end_time": "2022-01-14T14:25:10.815837Z",
     "start_time": "2022-01-14T14:25:10.597435Z"
    },
    "hidden": true
   },
   "outputs": [
    {
     "data": {
      "text/html": [
       "<div>\n",
       "<style scoped>\n",
       "    .dataframe tbody tr th:only-of-type {\n",
       "        vertical-align: middle;\n",
       "    }\n",
       "\n",
       "    .dataframe tbody tr th {\n",
       "        vertical-align: top;\n",
       "    }\n",
       "\n",
       "    .dataframe thead th {\n",
       "        text-align: right;\n",
       "    }\n",
       "</style>\n",
       "<table border=\"1\" class=\"dataframe\">\n",
       "  <thead>\n",
       "    <tr style=\"text-align: right;\">\n",
       "      <th></th>\n",
       "      <th>attributes</th>\n",
       "      <th>min</th>\n",
       "      <th>max</th>\n",
       "      <th>range</th>\n",
       "      <th>mean</th>\n",
       "      <th>median</th>\n",
       "      <th>std</th>\n",
       "      <th>skew</th>\n",
       "      <th>kurtosis</th>\n",
       "    </tr>\n",
       "  </thead>\n",
       "  <tbody>\n",
       "    <tr>\n",
       "      <th>0</th>\n",
       "      <td>idade</td>\n",
       "      <td>18.0000</td>\n",
       "      <td>64.00000</td>\n",
       "      <td>46.00000</td>\n",
       "      <td>39.207025</td>\n",
       "      <td>39.000</td>\n",
       "      <td>14.044709</td>\n",
       "      <td>0.055673</td>\n",
       "      <td>-1.245088</td>\n",
       "    </tr>\n",
       "    <tr>\n",
       "      <th>1</th>\n",
       "      <td>imc</td>\n",
       "      <td>15.9600</td>\n",
       "      <td>53.13000</td>\n",
       "      <td>37.17000</td>\n",
       "      <td>30.663397</td>\n",
       "      <td>30.400</td>\n",
       "      <td>6.095908</td>\n",
       "      <td>0.284047</td>\n",
       "      <td>-0.050732</td>\n",
       "    </tr>\n",
       "    <tr>\n",
       "      <th>2</th>\n",
       "      <td>filhos</td>\n",
       "      <td>0.0000</td>\n",
       "      <td>5.00000</td>\n",
       "      <td>5.00000</td>\n",
       "      <td>1.094918</td>\n",
       "      <td>1.000</td>\n",
       "      <td>1.205042</td>\n",
       "      <td>0.938380</td>\n",
       "      <td>0.202454</td>\n",
       "    </tr>\n",
       "    <tr>\n",
       "      <th>3</th>\n",
       "      <td>custos</td>\n",
       "      <td>1121.8739</td>\n",
       "      <td>63770.42801</td>\n",
       "      <td>62648.55411</td>\n",
       "      <td>13270.422265</td>\n",
       "      <td>9382.033</td>\n",
       "      <td>12105.484976</td>\n",
       "      <td>1.515880</td>\n",
       "      <td>1.606299</td>\n",
       "    </tr>\n",
       "  </tbody>\n",
       "</table>\n",
       "</div>"
      ],
      "text/plain": [
       "  attributes        min          max        range          mean    median           std      skew  kurtosis\n",
       "0      idade    18.0000     64.00000     46.00000     39.207025    39.000     14.044709  0.055673 -1.245088\n",
       "1        imc    15.9600     53.13000     37.17000     30.663397    30.400      6.095908  0.284047 -0.050732\n",
       "2     filhos     0.0000      5.00000      5.00000      1.094918     1.000      1.205042  0.938380  0.202454\n",
       "3     custos  1121.8739  63770.42801  62648.55411  13270.422265  9382.033  12105.484976  1.515880  1.606299"
      ]
     },
     "execution_count": 17,
     "metadata": {},
     "output_type": "execute_result"
    }
   ],
   "source": [
    "# Central Tendency - mean, median\n",
    "ct1 = pd.DataFrame( num_attributes.apply( np.mean ) ).T\n",
    "ct2 = pd.DataFrame( num_attributes.apply( np.median ) ).T\n",
    "\n",
    "# dispersion - std, min, max, range, skew, kurtosis\n",
    "d1 = pd.DataFrame( num_attributes.apply( np.std ) ).T \n",
    "d2 = pd.DataFrame( num_attributes.apply( min ) ).T \n",
    "d3 = pd.DataFrame( num_attributes.apply( max ) ).T \n",
    "d4 = pd.DataFrame( num_attributes.apply( lambda x: x.max() - x.min() ) ).T \n",
    "d5 = pd.DataFrame( num_attributes.apply( lambda x: x.skew() ) ).T \n",
    "d6 = pd.DataFrame( num_attributes.apply( lambda x: x.kurtosis() ) ).T \n",
    "\n",
    "# concatenar\n",
    "m = pd.concat( [d2, d3, d4, ct1, ct2, d1, d5, d6] ).T.reset_index()\n",
    "m.columns = ['attributes', 'min', 'max', 'range', 'mean', 'median', 'std', 'skew', 'kurtosis']\n",
    "m"
   ]
  },
  {
   "cell_type": "markdown",
   "id": "c196073b",
   "metadata": {
    "ExecuteTime": {
     "end_time": "2019-11-10T11:26:41.736121Z",
     "start_time": "2019-11-10T11:26:41.732986Z"
    },
    "heading_collapsed": true
   },
   "source": [
    "### 1.5.2. Categorical Atributes"
   ]
  },
  {
   "cell_type": "code",
   "execution_count": 18,
   "id": "532ed461",
   "metadata": {
    "ExecuteTime": {
     "end_time": "2022-01-14T14:25:10.830796Z",
     "start_time": "2022-01-14T14:25:10.816805Z"
    },
    "hidden": true
   },
   "outputs": [
    {
     "data": {
      "text/plain": [
       "sexo                      2\n",
       "fumante                   2\n",
       "regiao                    4\n",
       "classificaçao_corporal    4\n",
       "fase_da_vida              2\n",
       "regiao_geral              2\n",
       "dtype: int64"
      ]
     },
     "execution_count": 18,
     "metadata": {},
     "output_type": "execute_result"
    }
   ],
   "source": [
    "cat_attributes.apply( lambda x: x.unique().shape[0] )"
   ]
  },
  {
   "cell_type": "markdown",
   "id": "cb5488d1",
   "metadata": {},
   "source": [
    "# 2.0. PASSO 02 - EXPLORATORY DATA ANALYSIS"
   ]
  },
  {
   "cell_type": "code",
   "execution_count": 19,
   "id": "06b20de1",
   "metadata": {
    "ExecuteTime": {
     "end_time": "2022-01-14T14:25:10.909583Z",
     "start_time": "2022-01-14T14:25:10.831764Z"
    }
   },
   "outputs": [],
   "source": [
    "df2 = df1.copy()"
   ]
  },
  {
   "cell_type": "markdown",
   "id": "0bafdd14",
   "metadata": {},
   "source": [
    "## 2.1. Univariate Analysis"
   ]
  },
  {
   "cell_type": "markdown",
   "id": "a6047292",
   "metadata": {
    "hide_input": true
   },
   "source": [
    "### 2.1.1. Response Variable"
   ]
  },
  {
   "cell_type": "code",
   "execution_count": 20,
   "id": "27e55a6e",
   "metadata": {
    "ExecuteTime": {
     "end_time": "2022-01-14T14:25:11.502968Z",
     "start_time": "2022-01-14T14:25:10.910566Z"
    },
    "scrolled": false
   },
   "outputs": [
    {
     "data": {
      "text/plain": [
       "<AxesSubplot:xlabel='fumante', ylabel='Count'>"
      ]
     },
     "execution_count": 20,
     "metadata": {},
     "output_type": "execute_result"
    },
    {
     "data": {
      "image/png": "[encoded data removed]",
      "text/plain": [
       "<Figure size 1800x864 with 1 Axes>"
      ]
     },
     "metadata": {},
     "output_type": "display_data"
    }
   ],
   "source": [
    "sns.histplot( df2['fumante'], kde=False  )"
   ]
  },
  {
   "cell_type": "markdown",
   "id": "6346ca15",
   "metadata": {},
   "source": [
    "### 2.1.2. Numerical Variable"
   ]
  },
  {
   "cell_type": "code",
   "execution_count": 21,
   "id": "53b9d7fe",
   "metadata": {
    "ExecuteTime": {
     "end_time": "2022-01-14T14:25:12.565155Z",
     "start_time": "2022-01-14T14:25:11.503966Z"
    }
   },
   "outputs": [
    {
     "data": {
      "image/png": "[encoded data removed]",
      "text/plain": [
       "<Figure size 1800x864 with 4 Axes>"
      ]
     },
     "metadata": {},
     "output_type": "display_data"
    }
   ],
   "source": [
    "num_attributes.hist(bins = 35);"
   ]
  },
  {
   "cell_type": "markdown",
   "id": "1d5fc056",
   "metadata": {
    "hide_input": true
   },
   "source": [
    "### 2.1.3. Categorical Variable"
   ]
  },
  {
   "cell_type": "code",
   "execution_count": 22,
   "id": "7ae8b82e",
   "metadata": {
    "ExecuteTime": {
     "end_time": "2022-01-14T14:25:12.581114Z",
     "start_time": "2022-01-14T14:25:12.566138Z"
    }
   },
   "outputs": [
    {
     "data": {
      "text/plain": [
       "0    female\n",
       "1      male\n",
       "Name: sexo, dtype: object"
      ]
     },
     "execution_count": 22,
     "metadata": {},
     "output_type": "execute_result"
    }
   ],
   "source": [
    "df2['sexo'].drop_duplicates()"
   ]
  },
  {
   "cell_type": "code",
   "execution_count": 23,
   "id": "d178bdfe",
   "metadata": {
    "ExecuteTime": {
     "end_time": "2022-01-14T14:25:12.658868Z",
     "start_time": "2022-01-14T14:25:12.585075Z"
    }
   },
   "outputs": [
    {
     "data": {
      "text/plain": [
       "0    yes\n",
       "1     no\n",
       "Name: fumante, dtype: object"
      ]
     },
     "execution_count": 23,
     "metadata": {},
     "output_type": "execute_result"
    }
   ],
   "source": [
    "df2['fumante'].drop_duplicates()"
   ]
  },
  {
   "cell_type": "code",
   "execution_count": 24,
   "id": "1f40e0fa",
   "metadata": {
    "ExecuteTime": {
     "end_time": "2022-01-14T14:25:12.752288Z",
     "start_time": "2022-01-14T14:25:12.660863Z"
    }
   },
   "outputs": [
    {
     "data": {
      "text/plain": [
       "0    southwest\n",
       "1    southeast\n",
       "3    northwest\n",
       "8    northeast\n",
       "Name: regiao, dtype: object"
      ]
     },
     "execution_count": 24,
     "metadata": {},
     "output_type": "execute_result"
    }
   ],
   "source": [
    "df2['regiao'].drop_duplicates()"
   ]
  },
  {
   "cell_type": "code",
   "execution_count": 25,
   "id": "2ec4a511",
   "metadata": {
    "ExecuteTime": {
     "end_time": "2022-01-14T14:25:12.861871Z",
     "start_time": "2022-01-14T14:25:12.753205Z"
    }
   },
   "outputs": [
    {
     "data": {
      "text/plain": [
       "0     overweight\n",
       "1          obese\n",
       "3         normal\n",
       "28      thinness\n",
       "Name: classificaçao_corporal, dtype: object"
      ]
     },
     "execution_count": 25,
     "metadata": {},
     "output_type": "execute_result"
    }
   ],
   "source": [
    "df2['classificaçao_corporal'].drop_duplicates()"
   ]
  },
  {
   "cell_type": "code",
   "execution_count": 26,
   "id": "626527d0",
   "metadata": {
    "ExecuteTime": {
     "end_time": "2022-01-14T14:25:12.955714Z",
     "start_time": "2022-01-14T14:25:12.862838Z"
    }
   },
   "outputs": [
    {
     "data": {
      "text/plain": [
       "0      adult\n",
       "9    elderly\n",
       "Name: fase_da_vida, dtype: object"
      ]
     },
     "execution_count": 26,
     "metadata": {},
     "output_type": "execute_result"
    }
   ],
   "source": [
    "df2['fase_da_vida'].drop_duplicates()"
   ]
  },
  {
   "cell_type": "code",
   "execution_count": 27,
   "id": "5b8abd69",
   "metadata": {
    "ExecuteTime": {
     "end_time": "2022-01-14T14:25:13.063907Z",
     "start_time": "2022-01-14T14:25:12.957711Z"
    }
   },
   "outputs": [
    {
     "data": {
      "text/plain": [
       "0    south\n",
       "3    north\n",
       "Name: regiao_geral, dtype: object"
      ]
     },
     "execution_count": 27,
     "metadata": {},
     "output_type": "execute_result"
    }
   ],
   "source": [
    "df2['regiao_geral'].drop_duplicates()"
   ]
  },
  {
   "cell_type": "code",
   "execution_count": 28,
   "id": "fb92d193",
   "metadata": {
    "ExecuteTime": {
     "end_time": "2022-01-14T14:25:13.769398Z",
     "start_time": "2022-01-14T14:25:13.064907Z"
    }
   },
   "outputs": [
    {
     "name": "stderr",
     "output_type": "stream",
     "text": [
      "C:\\Users\\leo_m\\anaconda3\\lib\\site-packages\\seaborn\\_decorators.py:36: FutureWarning: Pass the following variable as a keyword arg: x. From version 0.12, the only valid positional argument will be `data`, and passing other arguments without an explicit keyword will result in an error or misinterpretation.\n",
      "  warnings.warn(\n",
      "C:\\Users\\leo_m\\anaconda3\\lib\\site-packages\\seaborn\\_decorators.py:36: FutureWarning: Pass the following variable as a keyword arg: x. From version 0.12, the only valid positional argument will be `data`, and passing other arguments without an explicit keyword will result in an error or misinterpretation.\n",
      "  warnings.warn(\n",
      "C:\\Users\\leo_m\\anaconda3\\lib\\site-packages\\seaborn\\_decorators.py:36: FutureWarning: Pass the following variable as a keyword arg: x. From version 0.12, the only valid positional argument will be `data`, and passing other arguments without an explicit keyword will result in an error or misinterpretation.\n",
      "  warnings.warn(\n",
      "C:\\Users\\leo_m\\anaconda3\\lib\\site-packages\\seaborn\\_decorators.py:36: FutureWarning: Pass the following variable as a keyword arg: x. From version 0.12, the only valid positional argument will be `data`, and passing other arguments without an explicit keyword will result in an error or misinterpretation.\n",
      "  warnings.warn(\n",
      "C:\\Users\\leo_m\\anaconda3\\lib\\site-packages\\seaborn\\_decorators.py:36: FutureWarning: Pass the following variable as a keyword arg: x. From version 0.12, the only valid positional argument will be `data`, and passing other arguments without an explicit keyword will result in an error or misinterpretation.\n",
      "  warnings.warn(\n"
     ]
    },
    {
     "data": {
      "text/plain": [
       "<AxesSubplot:xlabel='regiao_geral', ylabel='count'>"
      ]
     },
     "execution_count": 28,
     "metadata": {},
     "output_type": "execute_result"
    },
    {
     "data": {
      "image/png": "[encoded data removed]",
      "text/plain": [
       "<Figure size 1800x864 with 5 Axes>"
      ]
     },
     "metadata": {},
     "output_type": "display_data"
    }
   ],
   "source": [
    "# sexo\n",
    "\n",
    "plt.subplot(3,2,1)\n",
    "sns.countplot(df2['sexo'])\n",
    "\n",
    "# regiao\n",
    "\n",
    "plt.subplot(3,2,2)\n",
    "sns.countplot(df2['regiao'])\n",
    "\n",
    "# classificaçao_corporal\n",
    "\n",
    "plt.subplot(3,2,3)\n",
    "sns.countplot(df2['classificaçao_corporal'])\n",
    "\n",
    "# fase_da_vida\n",
    "\n",
    "plt.subplot(3,2,4)\n",
    "sns.countplot(df2['fase_da_vida'])\n",
    "\n",
    "# regiao_geral\n",
    "\n",
    "plt.subplot(3,2,5)\n",
    "sns.countplot(df2['regiao_geral'])\n"
   ]
  },
  {
   "cell_type": "markdown",
   "id": "994e3799",
   "metadata": {
    "heading_collapsed": true
   },
   "source": [
    "## 2.2 Multivariate analysis"
   ]
  },
  {
   "cell_type": "markdown",
   "id": "749029e2",
   "metadata": {
    "heading_collapsed": true,
    "hidden": true
   },
   "source": [
    "### 2.2.1 Numerical Attributes"
   ]
  },
  {
   "cell_type": "code",
   "execution_count": 29,
   "id": "96997392",
   "metadata": {
    "ExecuteTime": {
     "end_time": "2022-01-14T14:25:14.190996Z",
     "start_time": "2022-01-14T14:25:13.771361Z"
    },
    "hidden": true
   },
   "outputs": [
    {
     "data": {
      "text/plain": [
       "<AxesSubplot:>"
      ]
     },
     "execution_count": 29,
     "metadata": {},
     "output_type": "execute_result"
    },
    {
     "data": {
      "image/png": "[encoded data removed]",
      "text/plain": [
       "<Figure size 1800x864 with 2 Axes>"
      ]
     },
     "metadata": {},
     "output_type": "display_data"
    }
   ],
   "source": [
    "correlation = num_attributes.corr(method='pearson')\n",
    "sns.heatmap(correlation, annot=True)"
   ]
  },
  {
   "cell_type": "markdown",
   "id": "cf428e4e",
   "metadata": {
    "heading_collapsed": true,
    "hidden": true
   },
   "source": [
    "### 2.3.2 Categorical Attributes"
   ]
  },
  {
   "cell_type": "code",
   "execution_count": 30,
   "id": "d400f966",
   "metadata": {
    "ExecuteTime": {
     "end_time": "2022-01-14T14:25:15.064407Z",
     "start_time": "2022-01-14T14:25:14.192991Z"
    },
    "hidden": true
   },
   "outputs": [
    {
     "data": {
      "text/plain": [
       "<AxesSubplot:>"
      ]
     },
     "execution_count": 30,
     "metadata": {},
     "output_type": "execute_result"
    },
    {
     "data": {
      "image/png": "[encoded data removed]",
      "text/plain": [
       "<Figure size 1800x864 with 2 Axes>"
      ]
     },
     "metadata": {},
     "output_type": "display_data"
    }
   ],
   "source": [
    "a = cat_attributes\n",
    "\n",
    "# Calculate cramer V\n",
    "a1 = cramer_v( a['sexo'], a['sexo'] )\n",
    "a2 = cramer_v( a['sexo'], a['fumante'] )\n",
    "a3 = cramer_v( a['sexo'], a['regiao'] )\n",
    "a4 = cramer_v( a['sexo'], a['classificaçao_corporal'] )\n",
    "a5 = cramer_v( a['sexo'], a['fase_da_vida'] )\n",
    "a6 = cramer_v( a['sexo'], a['regiao_geral'] )\n",
    "\n",
    "a7 = cramer_v( a['fumante'], a['sexo'] )\n",
    "a8 = cramer_v( a['fumante'], a['fumante'] )\n",
    "a9 = cramer_v( a['fumante'], a['regiao'] )\n",
    "a10 = cramer_v( a['fumante'], a['classificaçao_corporal'] )\n",
    "a11 = cramer_v( a['fumante'], a['fase_da_vida'] )\n",
    "a12 = cramer_v( a['fumante'], a['regiao_geral'] )\n",
    "\n",
    "a13 = cramer_v( a['regiao'], a['sexo'] )\n",
    "a14 = cramer_v( a['regiao'], a['fumante'] )\n",
    "a15 = cramer_v( a['regiao'], a['regiao'] )\n",
    "a16 = cramer_v( a['regiao'], a['classificaçao_corporal'] )\n",
    "a17 = cramer_v( a['regiao'], a['fase_da_vida'] )\n",
    "a18 = cramer_v( a['regiao'], a['regiao_geral'] )\n",
    "\n",
    "a19 = cramer_v( a['classificaçao_corporal'], a['sexo'] )\n",
    "a20 = cramer_v( a['classificaçao_corporal'], a['fumante'] )\n",
    "a21 = cramer_v( a['classificaçao_corporal'], a['regiao'] )\n",
    "a22 = cramer_v( a['classificaçao_corporal'], a['classificaçao_corporal'] )\n",
    "a23 = cramer_v( a['classificaçao_corporal'], a['fase_da_vida'] )\n",
    "a24 = cramer_v( a['classificaçao_corporal'], a['regiao_geral'] )\n",
    "\n",
    "a25 = cramer_v( a['fase_da_vida'], a['sexo'] )\n",
    "a26 = cramer_v( a['fase_da_vida'], a['fumante'] )\n",
    "a27 = cramer_v( a['fase_da_vida'], a['regiao'] )\n",
    "a28 = cramer_v( a['fase_da_vida'], a['classificaçao_corporal'] )\n",
    "a29 = cramer_v( a['fase_da_vida'], a['fase_da_vida'] )\n",
    "a30 = cramer_v( a['fase_da_vida'], a['regiao_geral'] )\n",
    "\n",
    "a31 = cramer_v( a['regiao_geral'], a['sexo'] )\n",
    "a32 = cramer_v( a['regiao_geral'], a['fumante'] )\n",
    "a33 = cramer_v( a['regiao_geral'], a['regiao'] )\n",
    "a34 = cramer_v( a['regiao_geral'], a['classificaçao_corporal'] )\n",
    "a35 = cramer_v( a['regiao_geral'], a['fase_da_vida'] )\n",
    "a36 = cramer_v( a['regiao_geral'], a['regiao_geral'] )\n",
    "\n",
    "\n",
    "# Final dataset\n",
    "d = pd.DataFrame( {'sexo': [a1, a2, a3, a4, a5, a6], \n",
    "                   'fumante': [a7, a8, a9, a10, a11, a12], \n",
    "                   'regiao': [a13, a14, a15, a16, a17, a18], \n",
    "                   'classificaçao_corporal': [a19, a20, a21, a22, a23, a24], \n",
    "                   'fase_da_vida': [a25, a26, a27, a28, a29, a30], \n",
    "                   'regiao_geral': [a31, a32, a33, a34, a35, a36] \n",
    "                  })\n",
    "d = d.set_index( d.columns )\n",
    "\n",
    "sns.heatmap( d, annot=True )\n"
   ]
  },
  {
   "cell_type": "markdown",
   "id": "36121745",
   "metadata": {
    "heading_collapsed": true
   },
   "source": [
    "# 3.0. PASSO 03 - MACHINE LEARNING MODULLING"
   ]
  },
  {
   "cell_type": "code",
   "execution_count": 31,
   "id": "550bdd41",
   "metadata": {
    "ExecuteTime": {
     "end_time": "2022-01-14T14:25:32.672385Z",
     "start_time": "2022-01-14T14:25:32.656398Z"
    },
    "hidden": true
   },
   "outputs": [],
   "source": [
    "df3 = df2.copy()"
   ]
  },
  {
   "cell_type": "code",
   "execution_count": 32,
   "id": "d3fbddf8",
   "metadata": {
    "ExecuteTime": {
     "end_time": "2022-01-14T14:25:32.752172Z",
     "start_time": "2022-01-14T14:25:32.674350Z"
    },
    "hidden": true
   },
   "outputs": [
    {
     "data": {
      "text/html": [
       "<div>\n",
       "<style scoped>\n",
       "    .dataframe tbody tr th:only-of-type {\n",
       "        vertical-align: middle;\n",
       "    }\n",
       "\n",
       "    .dataframe tbody tr th {\n",
       "        vertical-align: top;\n",
       "    }\n",
       "\n",
       "    .dataframe thead th {\n",
       "        text-align: right;\n",
       "    }\n",
       "</style>\n",
       "<table border=\"1\" class=\"dataframe\">\n",
       "  <thead>\n",
       "    <tr style=\"text-align: right;\">\n",
       "      <th></th>\n",
       "      <th>idade</th>\n",
       "      <th>sexo</th>\n",
       "      <th>imc</th>\n",
       "      <th>filhos</th>\n",
       "      <th>fumante</th>\n",
       "      <th>regiao</th>\n",
       "      <th>custos</th>\n",
       "      <th>classificaçao_corporal</th>\n",
       "      <th>fase_da_vida</th>\n",
       "      <th>regiao_geral</th>\n",
       "    </tr>\n",
       "  </thead>\n",
       "  <tbody>\n",
       "    <tr>\n",
       "      <th>0</th>\n",
       "      <td>19</td>\n",
       "      <td>female</td>\n",
       "      <td>27.900</td>\n",
       "      <td>0</td>\n",
       "      <td>yes</td>\n",
       "      <td>southwest</td>\n",
       "      <td>16884.92400</td>\n",
       "      <td>overweight</td>\n",
       "      <td>adult</td>\n",
       "      <td>south</td>\n",
       "    </tr>\n",
       "    <tr>\n",
       "      <th>1</th>\n",
       "      <td>18</td>\n",
       "      <td>male</td>\n",
       "      <td>33.770</td>\n",
       "      <td>1</td>\n",
       "      <td>no</td>\n",
       "      <td>southeast</td>\n",
       "      <td>1725.55230</td>\n",
       "      <td>obese</td>\n",
       "      <td>adult</td>\n",
       "      <td>south</td>\n",
       "    </tr>\n",
       "    <tr>\n",
       "      <th>2</th>\n",
       "      <td>28</td>\n",
       "      <td>male</td>\n",
       "      <td>33.000</td>\n",
       "      <td>3</td>\n",
       "      <td>no</td>\n",
       "      <td>southeast</td>\n",
       "      <td>4449.46200</td>\n",
       "      <td>obese</td>\n",
       "      <td>adult</td>\n",
       "      <td>south</td>\n",
       "    </tr>\n",
       "    <tr>\n",
       "      <th>3</th>\n",
       "      <td>33</td>\n",
       "      <td>male</td>\n",
       "      <td>22.705</td>\n",
       "      <td>0</td>\n",
       "      <td>no</td>\n",
       "      <td>northwest</td>\n",
       "      <td>21984.47061</td>\n",
       "      <td>normal</td>\n",
       "      <td>adult</td>\n",
       "      <td>north</td>\n",
       "    </tr>\n",
       "    <tr>\n",
       "      <th>4</th>\n",
       "      <td>32</td>\n",
       "      <td>male</td>\n",
       "      <td>28.880</td>\n",
       "      <td>0</td>\n",
       "      <td>no</td>\n",
       "      <td>northwest</td>\n",
       "      <td>3866.85520</td>\n",
       "      <td>overweight</td>\n",
       "      <td>adult</td>\n",
       "      <td>north</td>\n",
       "    </tr>\n",
       "  </tbody>\n",
       "</table>\n",
       "</div>"
      ],
      "text/plain": [
       "   idade    sexo     imc  filhos fumante     regiao       custos classificaçao_corporal fase_da_vida regiao_geral\n",
       "0     19  female  27.900       0     yes  southwest  16884.92400             overweight        adult        south\n",
       "1     18    male  33.770       1      no  southeast   1725.55230                  obese        adult        south\n",
       "2     28    male  33.000       3      no  southeast   4449.46200                  obese        adult        south\n",
       "3     33    male  22.705       0      no  northwest  21984.47061                 normal        adult        north\n",
       "4     32    male  28.880       0      no  northwest   3866.85520             overweight        adult        north"
      ]
     },
     "execution_count": 32,
     "metadata": {},
     "output_type": "execute_result"
    }
   ],
   "source": [
    "df3.head()"
   ]
  },
  {
   "cell_type": "markdown",
   "id": "083b16d4",
   "metadata": {
    "heading_collapsed": true,
    "hidden": true
   },
   "source": [
    "## 3.1. Baseline Module"
   ]
  },
  {
   "cell_type": "code",
   "execution_count": 34,
   "id": "979211ae",
   "metadata": {
    "ExecuteTime": {
     "end_time": "2022-01-13T03:10:37.595248Z",
     "start_time": "2022-01-13T03:10:37.473577Z"
    },
    "hidden": true
   },
   "outputs": [],
   "source": [
    "#col = ColumnTransformer([\n",
    "#    ('encoder', OneHotEncoder(), ['sexo', 'regiao', 'classificaçao_corporal'])\n",
    "#], remainder='passthrough')\n",
    "#\n",
    "#pipe = Pipeline([\n",
    "#    ('col', col),\n",
    "#    ('model', RandomForestClassifier(n_estimators=100,random_state=4))\n",
    "#])\n",
    "#\n",
    "#X = df5.drop('fumante', axis=1)\n",
    "#y = df5.fumante.map(lambda x: 1 if x == 'yes' else 0)\n",
    "#\n",
    "#results = cross_validate(pipe, X, y, scoring='f1', cv=KFold(n_splits=10, shuffle=True, random_state=0))['test_score']\n",
    "#results.mean()"
   ]
  },
  {
   "cell_type": "code",
   "execution_count": 35,
   "id": "33a62015",
   "metadata": {
    "ExecuteTime": {
     "end_time": "2022-01-13T03:10:41.034442Z",
     "start_time": "2022-01-13T03:10:37.597243Z"
    },
    "hidden": true,
    "scrolled": true
   },
   "outputs": [
    {
     "name": "stderr",
     "output_type": "stream",
     "text": [
      "C:\\Users\\leo_m\\anaconda3\\lib\\site-packages\\sklearn\\linear_model\\_logistic.py:763: ConvergenceWarning: lbfgs failed to converge (status=1):\n",
      "STOP: TOTAL NO. of ITERATIONS REACHED LIMIT.\n",
      "\n",
      "Increase the number of iterations (max_iter) or scale the data as shown in:\n",
      "    https://scikit-learn.org/stable/modules/preprocessing.html\n",
      "Please also refer to the documentation for alternative solver options:\n",
      "    https://scikit-learn.org/stable/modules/linear_model.html#logistic-regression\n",
      "  n_iter_i = _check_optimize_result(\n",
      "C:\\Users\\leo_m\\anaconda3\\lib\\site-packages\\xgboost\\sklearn.py:1224: UserWarning: The use of label encoder in XGBClassifier is deprecated and will be removed in a future release. To remove this warning, do the following: 1) Pass option use_label_encoder=False when constructing XGBClassifier object; and 2) Encode your labels (y) as integers starting with 0, i.e. 0, 1, 2, ..., [num_class - 1].\n",
      "  warnings.warn(label_encoder_deprecation_msg, UserWarning)\n",
      "C:\\Users\\leo_m\\anaconda3\\lib\\site-packages\\xgboost\\sklearn.py:1224: UserWarning: The use of label encoder in XGBClassifier is deprecated and will be removed in a future release. To remove this warning, do the following: 1) Pass option use_label_encoder=False when constructing XGBClassifier object; and 2) Encode your labels (y) as integers starting with 0, i.e. 0, 1, 2, ..., [num_class - 1].\n",
      "  warnings.warn(label_encoder_deprecation_msg, UserWarning)\n",
      "C:\\Users\\leo_m\\anaconda3\\lib\\site-packages\\xgboost\\sklearn.py:1224: UserWarning: The use of label encoder in XGBClassifier is deprecated and will be removed in a future release. To remove this warning, do the following: 1) Pass option use_label_encoder=False when constructing XGBClassifier object; and 2) Encode your labels (y) as integers starting with 0, i.e. 0, 1, 2, ..., [num_class - 1].\n",
      "  warnings.warn(label_encoder_deprecation_msg, UserWarning)\n"
     ]
    },
    {
     "name": "stdout",
     "output_type": "stream",
     "text": [
      "[00:10:40] WARNING: C:/Users/Administrator/workspace/xgboost-win64_release_1.5.1/src/learner.cc:1115: Starting in XGBoost 1.3.0, the default evaluation metric used with the objective 'binary:logistic' was changed from 'error' to 'logloss'. Explicitly set eval_metric if you'd like to restore the old behavior.\n",
      "[00:10:40] WARNING: C:/Users/Administrator/workspace/xgboost-win64_release_1.5.1/src/learner.cc:1115: Starting in XGBoost 1.3.0, the default evaluation metric used with the objective 'binary:logistic' was changed from 'error' to 'logloss'. Explicitly set eval_metric if you'd like to restore the old behavior.\n",
      "[00:10:40] WARNING: C:/Users/Administrator/workspace/xgboost-win64_release_1.5.1/src/learner.cc:1115: Starting in XGBoost 1.3.0, the default evaluation metric used with the objective 'binary:logistic' was changed from 'error' to 'logloss'. Explicitly set eval_metric if you'd like to restore the old behavior.\n"
     ]
    },
    {
     "name": "stderr",
     "output_type": "stream",
     "text": [
      "C:\\Users\\leo_m\\anaconda3\\lib\\site-packages\\xgboost\\sklearn.py:1224: UserWarning: The use of label encoder in XGBClassifier is deprecated and will be removed in a future release. To remove this warning, do the following: 1) Pass option use_label_encoder=False when constructing XGBClassifier object; and 2) Encode your labels (y) as integers starting with 0, i.e. 0, 1, 2, ..., [num_class - 1].\n",
      "  warnings.warn(label_encoder_deprecation_msg, UserWarning)\n",
      "C:\\Users\\leo_m\\anaconda3\\lib\\site-packages\\xgboost\\sklearn.py:1224: UserWarning: The use of label encoder in XGBClassifier is deprecated and will be removed in a future release. To remove this warning, do the following: 1) Pass option use_label_encoder=False when constructing XGBClassifier object; and 2) Encode your labels (y) as integers starting with 0, i.e. 0, 1, 2, ..., [num_class - 1].\n",
      "  warnings.warn(label_encoder_deprecation_msg, UserWarning)\n",
      "C:\\Users\\leo_m\\anaconda3\\lib\\site-packages\\xgboost\\sklearn.py:1224: UserWarning: The use of label encoder in XGBClassifier is deprecated and will be removed in a future release. To remove this warning, do the following: 1) Pass option use_label_encoder=False when constructing XGBClassifier object; and 2) Encode your labels (y) as integers starting with 0, i.e. 0, 1, 2, ..., [num_class - 1].\n",
      "  warnings.warn(label_encoder_deprecation_msg, UserWarning)\n"
     ]
    },
    {
     "name": "stdout",
     "output_type": "stream",
     "text": [
      "[00:10:40] WARNING: C:/Users/Administrator/workspace/xgboost-win64_release_1.5.1/src/learner.cc:1115: Starting in XGBoost 1.3.0, the default evaluation metric used with the objective 'binary:logistic' was changed from 'error' to 'logloss'. Explicitly set eval_metric if you'd like to restore the old behavior.\n",
      "[00:10:40] WARNING: C:/Users/Administrator/workspace/xgboost-win64_release_1.5.1/src/learner.cc:1115: Starting in XGBoost 1.3.0, the default evaluation metric used with the objective 'binary:logistic' was changed from 'error' to 'logloss'. Explicitly set eval_metric if you'd like to restore the old behavior.\n",
      "[00:10:40] WARNING: C:/Users/Administrator/workspace/xgboost-win64_release_1.5.1/src/learner.cc:1115: Starting in XGBoost 1.3.0, the default evaluation metric used with the objective 'binary:logistic' was changed from 'error' to 'logloss'. Explicitly set eval_metric if you'd like to restore the old behavior.\n"
     ]
    },
    {
     "name": "stderr",
     "output_type": "stream",
     "text": [
      "C:\\Users\\leo_m\\anaconda3\\lib\\site-packages\\xgboost\\sklearn.py:1224: UserWarning: The use of label encoder in XGBClassifier is deprecated and will be removed in a future release. To remove this warning, do the following: 1) Pass option use_label_encoder=False when constructing XGBClassifier object; and 2) Encode your labels (y) as integers starting with 0, i.e. 0, 1, 2, ..., [num_class - 1].\n",
      "  warnings.warn(label_encoder_deprecation_msg, UserWarning)\n",
      "C:\\Users\\leo_m\\anaconda3\\lib\\site-packages\\xgboost\\sklearn.py:1224: UserWarning: The use of label encoder in XGBClassifier is deprecated and will be removed in a future release. To remove this warning, do the following: 1) Pass option use_label_encoder=False when constructing XGBClassifier object; and 2) Encode your labels (y) as integers starting with 0, i.e. 0, 1, 2, ..., [num_class - 1].\n",
      "  warnings.warn(label_encoder_deprecation_msg, UserWarning)\n",
      "C:\\Users\\leo_m\\anaconda3\\lib\\site-packages\\xgboost\\sklearn.py:1224: UserWarning: The use of label encoder in XGBClassifier is deprecated and will be removed in a future release. To remove this warning, do the following: 1) Pass option use_label_encoder=False when constructing XGBClassifier object; and 2) Encode your labels (y) as integers starting with 0, i.e. 0, 1, 2, ..., [num_class - 1].\n",
      "  warnings.warn(label_encoder_deprecation_msg, UserWarning)\n"
     ]
    },
    {
     "name": "stdout",
     "output_type": "stream",
     "text": [
      "[00:10:40] WARNING: C:/Users/Administrator/workspace/xgboost-win64_release_1.5.1/src/learner.cc:1115: Starting in XGBoost 1.3.0, the default evaluation metric used with the objective 'binary:logistic' was changed from 'error' to 'logloss'. Explicitly set eval_metric if you'd like to restore the old behavior.\n",
      "[00:10:40] WARNING: C:/Users/Administrator/workspace/xgboost-win64_release_1.5.1/src/learner.cc:1115: Starting in XGBoost 1.3.0, the default evaluation metric used with the objective 'binary:logistic' was changed from 'error' to 'logloss'. Explicitly set eval_metric if you'd like to restore the old behavior.\n",
      "[00:10:40] WARNING: C:/Users/Administrator/workspace/xgboost-win64_release_1.5.1/src/learner.cc:1115: Starting in XGBoost 1.3.0, the default evaluation metric used with the objective 'binary:logistic' was changed from 'error' to 'logloss'. Explicitly set eval_metric if you'd like to restore the old behavior.\n",
      "[00:10:40] WARNING: C:/Users/Administrator/workspace/xgboost-win64_release_1.5.1/src/learner.cc:1115: Starting in XGBoost 1.3.0, the default evaluation metric used with the objective 'binary:logistic' was changed from 'error' to 'logloss'. Explicitly set eval_metric if you'd like to restore the old behavior.\n",
      "[00:10:40] WARNING: C:/Users/Administrator/workspace/xgboost-win64_release_1.5.1/src/learner.cc:1115: Starting in XGBoost 1.3.0, the default evaluation metric used with the objective 'binary:logistic' was changed from 'error' to 'logloss'. Explicitly set eval_metric if you'd like to restore the old behavior.\n"
     ]
    },
    {
     "name": "stderr",
     "output_type": "stream",
     "text": [
      "C:\\Users\\leo_m\\anaconda3\\lib\\site-packages\\xgboost\\sklearn.py:1224: UserWarning: The use of label encoder in XGBClassifier is deprecated and will be removed in a future release. To remove this warning, do the following: 1) Pass option use_label_encoder=False when constructing XGBClassifier object; and 2) Encode your labels (y) as integers starting with 0, i.e. 0, 1, 2, ..., [num_class - 1].\n",
      "  warnings.warn(label_encoder_deprecation_msg, UserWarning)\n",
      "C:\\Users\\leo_m\\anaconda3\\lib\\site-packages\\xgboost\\sklearn.py:1224: UserWarning: The use of label encoder in XGBClassifier is deprecated and will be removed in a future release. To remove this warning, do the following: 1) Pass option use_label_encoder=False when constructing XGBClassifier object; and 2) Encode your labels (y) as integers starting with 0, i.e. 0, 1, 2, ..., [num_class - 1].\n",
      "  warnings.warn(label_encoder_deprecation_msg, UserWarning)\n"
     ]
    },
    {
     "data": {
      "text/plain": [
       "GridSearchCV(cv=KFold(n_splits=10, random_state=0, shuffle=True),\n",
       "             estimator=Pipeline(steps=[('col',\n",
       "                                        ColumnTransformer(remainder='passthrough',\n",
       "                                                          transformers=[('encoder',\n",
       "                                                                         OneHotEncoder(),\n",
       "                                                                         ['sexo',\n",
       "                                                                          'regiao',\n",
       "                                                                          'classificaçao_corporal',\n",
       "                                                                          'fase_da_vida',\n",
       "                                                                          'regiao_geral'])])),\n",
       "                                       ('model', 'passthrough')]),\n",
       "             param_grid={'model': [RandomForestClassifier(random_state=0),\n",
       "                                   Logistic...\n",
       "                                                 interaction_constraints=None,\n",
       "                                                 learning_rate=None,\n",
       "                                                 max_delta_step=None,\n",
       "                                                 max_depth=None,\n",
       "                                                 min_child_weight=None,\n",
       "                                                 missing=nan,\n",
       "                                                 monotone_constraints=None,\n",
       "                                                 n_estimators=100, n_jobs=None,\n",
       "                                                 num_parallel_tree=None,\n",
       "                                                 predictor=None, random_state=0,\n",
       "                                                 reg_alpha=None,\n",
       "                                                 reg_lambda=None,\n",
       "                                                 scale_pos_weight=None,\n",
       "                                                 subsample=None,\n",
       "                                                 tree_method=None,\n",
       "                                                 validate_parameters=None,\n",
       "                                                 verbosity=None)]},\n",
       "             scoring='f1')"
      ]
     },
     "execution_count": 35,
     "metadata": {},
     "output_type": "execute_result"
    }
   ],
   "source": [
    "col = ColumnTransformer([\n",
    "    ('encoder', OneHotEncoder(), ['sexo', 'regiao', 'classificaçao_corporal','fase_da_vida', 'regiao_geral'])\n",
    "], remainder='passthrough')\n",
    "\n",
    "pipe = Pipeline([\n",
    "    ('col', col),\n",
    "    ('model', 'passthrough')\n",
    "])\n",
    "\n",
    "X = df3.drop('fumante', axis=1)\n",
    "y = df3.fumante.map(lambda x: 1 if x == 'yes' else 0)\n",
    "\n",
    "X_train, X_test, y_train, y_test = train_test_split( X, y, test_size=0.20, shuffle=True, random_state=0)\n",
    "\n",
    "param_grid = {\n",
    "    'model': [RandomForestClassifier(random_state=0), LogisticRegression(random_state=0), KNeighborsClassifier(), xgb.XGBClassifier(random_state=0) \n",
    "             ]\n",
    "}\n",
    "\n",
    "gcv = GridSearchCV(pipe, param_grid=param_grid, scoring='f1', cv=KFold(n_splits=10, shuffle=True, random_state=0))\n",
    "gcv.fit(X_train, y_train)"
   ]
  },
  {
   "cell_type": "code",
   "execution_count": 36,
   "id": "9ff44420",
   "metadata": {
    "ExecuteTime": {
     "end_time": "2022-01-13T03:10:41.064362Z",
     "start_time": "2022-01-13T03:10:41.035439Z"
    },
    "hidden": true
   },
   "outputs": [
    {
     "data": {
      "text/plain": [
       "Pipeline(steps=[('col',\n",
       "                 ColumnTransformer(remainder='passthrough',\n",
       "                                   transformers=[('encoder', OneHotEncoder(),\n",
       "                                                  ['sexo', 'regiao',\n",
       "                                                   'classificaçao_corporal',\n",
       "                                                   'fase_da_vida',\n",
       "                                                   'regiao_geral'])])),\n",
       "                ('model',\n",
       "                 XGBClassifier(base_score=0.5, booster='gbtree',\n",
       "                               colsample_bylevel=1, colsample_bynode=1,\n",
       "                               colsample_bytree=1, enable_categorical=False,\n",
       "                               gamma=0, gpu_id=-1, importance_type=None,\n",
       "                               interaction_constraints='',\n",
       "                               learning_rate=0.300000012, max_delta_step=0,\n",
       "                               max_depth=6, min_child_weight=1, missing=nan,\n",
       "                               monotone_constraints='()', n_estimators=100,\n",
       "                               n_jobs=4, num_parallel_tree=1, predictor='auto',\n",
       "                               random_state=0, reg_alpha=0, reg_lambda=1,\n",
       "                               scale_pos_weight=1, subsample=1,\n",
       "                               tree_method='exact', validate_parameters=1,\n",
       "                               verbosity=None))])"
      ]
     },
     "execution_count": 36,
     "metadata": {},
     "output_type": "execute_result"
    }
   ],
   "source": [
    "gcv.best_estimator_"
   ]
  },
  {
   "cell_type": "code",
   "execution_count": 37,
   "id": "d9a0bc73",
   "metadata": {
    "ExecuteTime": {
     "end_time": "2022-01-13T03:10:41.159132Z",
     "start_time": "2022-01-13T03:10:41.065360Z"
    },
    "hidden": true
   },
   "outputs": [
    {
     "data": {
      "text/plain": [
       "0.9258967248290556"
      ]
     },
     "execution_count": 37,
     "metadata": {},
     "output_type": "execute_result"
    }
   ],
   "source": [
    "gcv.best_score_"
   ]
  },
  {
   "cell_type": "code",
   "execution_count": 38,
   "id": "1d0376a2",
   "metadata": {
    "ExecuteTime": {
     "end_time": "2022-01-13T03:10:41.267915Z",
     "start_time": "2022-01-13T03:10:41.162124Z"
    },
    "hidden": true,
    "scrolled": true
   },
   "outputs": [
    {
     "data": {
      "text/plain": [
       "{'model': XGBClassifier(base_score=None, booster=None, colsample_bylevel=None,\n",
       "               colsample_bynode=None, colsample_bytree=None,\n",
       "               enable_categorical=False, gamma=None, gpu_id=None,\n",
       "               importance_type=None, interaction_constraints=None,\n",
       "               learning_rate=None, max_delta_step=None, max_depth=None,\n",
       "               min_child_weight=None, missing=nan, monotone_constraints=None,\n",
       "               n_estimators=100, n_jobs=None, num_parallel_tree=None,\n",
       "               predictor=None, random_state=0, reg_alpha=None, reg_lambda=None,\n",
       "               scale_pos_weight=None, subsample=None, tree_method=None,\n",
       "               validate_parameters=None, verbosity=None)}"
      ]
     },
     "execution_count": 38,
     "metadata": {},
     "output_type": "execute_result"
    }
   ],
   "source": [
    "gcv.best_params_"
   ]
  },
  {
   "cell_type": "code",
   "execution_count": 39,
   "id": "1aa72b02",
   "metadata": {
    "ExecuteTime": {
     "end_time": "2022-01-13T03:10:41.485739Z",
     "start_time": "2022-01-13T03:10:41.269909Z"
    },
    "hidden": true
   },
   "outputs": [
    {
     "name": "stdout",
     "output_type": "stream",
     "text": [
      "[00:10:41] WARNING: C:/Users/Administrator/workspace/xgboost-win64_release_1.5.1/src/learner.cc:1115: Starting in XGBoost 1.3.0, the default evaluation metric used with the objective 'binary:logistic' was changed from 'error' to 'logloss'. Explicitly set eval_metric if you'd like to restore the old behavior.\n",
      "0.902654867256637\n"
     ]
    },
    {
     "name": "stderr",
     "output_type": "stream",
     "text": [
      "C:\\Users\\leo_m\\anaconda3\\lib\\site-packages\\xgboost\\sklearn.py:1224: UserWarning: The use of label encoder in XGBClassifier is deprecated and will be removed in a future release. To remove this warning, do the following: 1) Pass option use_label_encoder=False when constructing XGBClassifier object; and 2) Encode your labels (y) as integers starting with 0, i.e. 0, 1, 2, ..., [num_class - 1].\n",
      "  warnings.warn(label_encoder_deprecation_msg, UserWarning)\n"
     ]
    }
   ],
   "source": [
    "col = ColumnTransformer([\n",
    "    ('encoder', OneHotEncoder(), ['sexo', 'regiao', 'classificaçao_corporal','fase_da_vida', 'regiao_geral'])\n",
    "], remainder='passthrough')\n",
    "\n",
    "\n",
    "pipe = Pipeline([\n",
    "    ('col', col),\n",
    "    ('model', xgb.XGBClassifier(random_state=0))\n",
    "])\n",
    "pipe.fit(X_train, y_train)\n",
    "y_preds = pipe.predict(X_test)\n",
    "print(f1_score(y_test, y_pred=y_preds))"
   ]
  },
  {
   "cell_type": "code",
   "execution_count": 40,
   "id": "0072e42e",
   "metadata": {
    "ExecuteTime": {
     "end_time": "2022-01-13T03:10:41.533612Z",
     "start_time": "2022-01-13T03:10:41.486738Z"
    },
    "hidden": true
   },
   "outputs": [],
   "source": [
    "f1_score_xgb = f1_score(y_test, y_pred=y_preds)\n",
    "precision_xgb = precision_score(y_test, y_preds)\n",
    "recall_xgb = recall_score(y_test, y_preds)"
   ]
  },
  {
   "cell_type": "code",
   "execution_count": 41,
   "id": "5faa525b",
   "metadata": {
    "ExecuteTime": {
     "end_time": "2022-01-13T03:10:41.642323Z",
     "start_time": "2022-01-13T03:10:41.535607Z"
    },
    "hidden": true,
    "scrolled": true
   },
   "outputs": [
    {
     "data": {
      "text/html": [
       "<div>\n",
       "<style scoped>\n",
       "    .dataframe tbody tr th:only-of-type {\n",
       "        vertical-align: middle;\n",
       "    }\n",
       "\n",
       "    .dataframe tbody tr th {\n",
       "        vertical-align: top;\n",
       "    }\n",
       "\n",
       "    .dataframe thead th {\n",
       "        text-align: right;\n",
       "    }\n",
       "</style>\n",
       "<table border=\"1\" class=\"dataframe\">\n",
       "  <thead>\n",
       "    <tr style=\"text-align: right;\">\n",
       "      <th></th>\n",
       "      <th>Model Name</th>\n",
       "      <th>Precision</th>\n",
       "      <th>Recall</th>\n",
       "      <th>F1_score</th>\n",
       "    </tr>\n",
       "  </thead>\n",
       "  <tbody>\n",
       "    <tr>\n",
       "      <th>0</th>\n",
       "      <td>XGBClassifier</td>\n",
       "      <td>0.87931</td>\n",
       "      <td>0.927273</td>\n",
       "      <td>0.902655</td>\n",
       "    </tr>\n",
       "  </tbody>\n",
       "</table>\n",
       "</div>"
      ],
      "text/plain": [
       "      Model Name  Precision    Recall  F1_score\n",
       "0  XGBClassifier    0.87931  0.927273  0.902655"
      ]
     },
     "execution_count": 41,
     "metadata": {},
     "output_type": "execute_result"
    }
   ],
   "source": [
    "modelling_result = ml_error('XGBClassifier', precision_xgb, recall_xgb, f1_score_xgb )\n",
    "modelling_result"
   ]
  },
  {
   "cell_type": "markdown",
   "id": "555d86be",
   "metadata": {},
   "source": [
    "# 4.0. Passo 04 - HYPERPARAMETER FINE TUNING"
   ]
  },
  {
   "cell_type": "code",
   "execution_count": null,
   "id": "59e17487",
   "metadata": {
    "ExecuteTime": {
     "end_time": "2022-01-12T19:46:17.939961Z",
     "start_time": "2022-01-12T19:45:58.044513Z"
    },
    "scrolled": true
   },
   "outputs": [],
   "source": [
    "param = {'model__n_estimators':[50, 100, 150, 200, 250],\n",
    "         'model__eta':[0.01, 0.03, 0.05]\n",
    "         #'model__gamma':[3, 10, 20],\n",
    "         #'model__max_depth':[3, 5, 9],\n",
    "         #'model__subsample':[0.1, 0.5, 0.7],\n",
    "         #'model__colsample_bytree':[0.3, 0.7, 0.9],\n",
    "         #'model__min_child_weight':[3, 8, 15],\n",
    "        }\n",
    "\n",
    "col = ColumnTransformer([\n",
    "    ('encoder', OneHotEncoder(), ['sexo', 'regiao', 'classificaçao_corporal','fase_da_vida', 'regiao_geral'])\n",
    "], remainder='passthrough')\n",
    "\n",
    "pipe = Pipeline([\n",
    "    ('col', col),\n",
    "    ('model', xgb.XGBClassifier(use_label_encoder=False,random_state=0) )\n",
    "])\n",
    "\n",
    "X = df3.drop('fumante', axis=1)\n",
    "y = df3.fumante.map(lambda x: 1 if x == 'yes' else 0)\n",
    "\n",
    "X_train, X_test, y_train, y_test = ms.train_test_split( X, y, test_size=0.20, shuffle=True, random_state=0)\n",
    "\n",
    "gcv = GridSearchCV(pipe, param_grid=param, scoring='f1', cv=KFold(n_splits=10, shuffle=True, random_state=0))\n",
    "gcv.fit(X_train, y_train)"
   ]
  },
  {
   "cell_type": "code",
   "execution_count": 46,
   "id": "8a2cb3a6",
   "metadata": {
    "ExecuteTime": {
     "end_time": "2022-01-12T19:46:17.955919Z",
     "start_time": "2022-01-12T19:46:17.941956Z"
    }
   },
   "outputs": [
    {
     "data": {
      "text/plain": [
       "{'model__eta': 0.05, 'model__n_estimators': 250}"
      ]
     },
     "execution_count": 46,
     "metadata": {},
     "output_type": "execute_result"
    }
   ],
   "source": [
    "gcv.best_params_"
   ]
  },
  {
   "cell_type": "code",
   "execution_count": null,
   "id": "5b45de77",
   "metadata": {
    "ExecuteTime": {
     "end_time": "2022-01-12T19:47:13.596452Z",
     "start_time": "2022-01-12T19:46:38.975987Z"
    },
    "scrolled": true
   },
   "outputs": [],
   "source": [
    "param = {'model__n_estimators':[200, 250, 300, 350, 400],\n",
    "         'model__eta':[0.03, 0.05, 0.07]\n",
    "         #'model__gamma':[3, 10, 20],\n",
    "         #'model__max_depth':[3, 5, 9],\n",
    "         #'model__subsample':[0.1, 0.5, 0.7],\n",
    "         #'model__colsample_bytree':[0.3, 0.7, 0.9],\n",
    "         #'model__min_child_weight':[3, 8, 15],\n",
    "        }\n",
    "\n",
    "col = ColumnTransformer([\n",
    "    ('encoder', OneHotEncoder(), ['sexo', 'regiao', 'classificaçao_corporal','fase_da_vida', 'regiao_geral'])\n",
    "], remainder='passthrough')\n",
    "\n",
    "pipe = Pipeline([\n",
    "    ('col', col),\n",
    "    ('model', xgb.XGBClassifier(use_label_encoder=False,random_state=0) )\n",
    "])\n",
    "\n",
    "X = df3.drop('fumante', axis=1)\n",
    "y = df3.fumante.map(lambda x: 1 if x == 'yes' else 0)\n",
    "\n",
    "X_train, X_test, y_train, y_test = ms.train_test_split( X, y, test_size=0.20, shuffle=True, random_state=0)\n",
    "\n",
    "gcv = GridSearchCV(pipe, param_grid=param, scoring='f1', cv=KFold(n_splits=10, shuffle=True, random_state=0))\n",
    "gcv.fit(X_train, y_train)"
   ]
  },
  {
   "cell_type": "code",
   "execution_count": 48,
   "id": "1f910649",
   "metadata": {
    "ExecuteTime": {
     "end_time": "2022-01-12T19:47:13.611412Z",
     "start_time": "2022-01-12T19:47:13.597450Z"
    }
   },
   "outputs": [
    {
     "data": {
      "text/plain": [
       "{'model__eta': 0.05, 'model__n_estimators': 300}"
      ]
     },
     "execution_count": 48,
     "metadata": {},
     "output_type": "execute_result"
    }
   ],
   "source": [
    "gcv.best_params_"
   ]
  },
  {
   "cell_type": "code",
   "execution_count": 49,
   "id": "9822ce29",
   "metadata": {
    "ExecuteTime": {
     "end_time": "2022-01-12T19:47:13.704238Z",
     "start_time": "2022-01-12T19:47:13.613408Z"
    }
   },
   "outputs": [
    {
     "data": {
      "text/plain": [
       "0.9236926431964025"
      ]
     },
     "execution_count": 49,
     "metadata": {},
     "output_type": "execute_result"
    }
   ],
   "source": [
    "gcv.best_score_"
   ]
  },
  {
   "cell_type": "code",
   "execution_count": null,
   "id": "df75083a",
   "metadata": {
    "ExecuteTime": {
     "end_time": "2022-01-12T19:48:21.627196Z",
     "start_time": "2022-01-12T19:47:25.478614Z"
    },
    "scrolled": true
   },
   "outputs": [],
   "source": [
    "param = {'model__n_estimators':[280],\n",
    "         'model__eta':[0.05],\n",
    "         'model__gamma':[0,10, 20],\n",
    "         'model__max_depth':[3, 6, 9],\n",
    "         'model__subsample':[0.5, 0.7, 1]\n",
    "         #'model__colsample_bytree':[0.3, 0.7, 0.9],\n",
    "         #'model__min_child_weight':[3, 8, 15],\n",
    "        }\n",
    "\n",
    "col = ColumnTransformer([\n",
    "    ('encoder', OneHotEncoder(), ['sexo', 'regiao', 'classificaçao_corporal','fase_da_vida', 'regiao_geral'])\n",
    "], remainder='passthrough')\n",
    "\n",
    "pipe = Pipeline([\n",
    "    ('col', col),\n",
    "    ('model', xgb.XGBClassifier(use_label_encoder=False,random_state=0) )\n",
    "])\n",
    "\n",
    "X = df3.drop('fumante', axis=1)\n",
    "y = df3.fumante.map(lambda x: 1 if x == 'yes' else 0)\n",
    "\n",
    "X_train, X_test, y_train, y_test = ms.train_test_split( X, y, test_size=0.20, shuffle=True, random_state=0)\n",
    "\n",
    "gcv = GridSearchCV(pipe, param_grid=param, scoring='f1', cv=KFold(n_splits=10, shuffle=True, random_state=0))\n",
    "gcv.fit(X_train, y_train)"
   ]
  },
  {
   "cell_type": "code",
   "execution_count": 51,
   "id": "74997818",
   "metadata": {
    "ExecuteTime": {
     "end_time": "2022-01-12T19:48:21.643153Z",
     "start_time": "2022-01-12T19:48:21.628194Z"
    }
   },
   "outputs": [
    {
     "data": {
      "text/plain": [
       "{'model__eta': 0.05,\n",
       " 'model__gamma': 0,\n",
       " 'model__max_depth': 9,\n",
       " 'model__n_estimators': 280,\n",
       " 'model__subsample': 1}"
      ]
     },
     "execution_count": 51,
     "metadata": {},
     "output_type": "execute_result"
    }
   ],
   "source": [
    "gcv.best_params_"
   ]
  },
  {
   "cell_type": "code",
   "execution_count": 52,
   "id": "98cab731",
   "metadata": {
    "ExecuteTime": {
     "end_time": "2022-01-12T19:48:21.734129Z",
     "start_time": "2022-01-12T19:48:21.645148Z"
    }
   },
   "outputs": [
    {
     "data": {
      "text/plain": [
       "0.9258365935076922"
      ]
     },
     "execution_count": 52,
     "metadata": {},
     "output_type": "execute_result"
    }
   ],
   "source": [
    "gcv.best_score_"
   ]
  },
  {
   "cell_type": "code",
   "execution_count": null,
   "id": "5af3902c",
   "metadata": {
    "ExecuteTime": {
     "end_time": "2022-01-13T03:11:20.393079Z",
     "start_time": "2022-01-13T03:11:03.943531Z"
    },
    "scrolled": true
   },
   "outputs": [],
   "source": [
    "param = {'model__n_estimators':[280],\n",
    "         'model__eta':[0.05],\n",
    "         'model__gamma':[0],\n",
    "         'model__max_depth':[9],\n",
    "         'model__subsample':[1],\n",
    "         'model__colsample_bytree':[0.7, 0.9, 1],\n",
    "         'model__min_child_weight':[1,3, 8]\n",
    "        }\n",
    "\n",
    "col = ColumnTransformer([\n",
    "    ('encoder', OneHotEncoder(), ['sexo', 'regiao', 'classificaçao_corporal','fase_da_vida', 'regiao_geral'])\n",
    "], remainder='passthrough')\n",
    "\n",
    "pipe = Pipeline([\n",
    "    ('col', col),\n",
    "    ('model', xgb.XGBClassifier(use_label_encoder=False,random_state=0) )\n",
    "])\n",
    "\n",
    "X = df3.drop('fumante', axis=1)\n",
    "y = df3.fumante.map(lambda x: 1 if x == 'yes' else 0)\n",
    "\n",
    "X_train, X_test, y_train, y_test = ms.train_test_split( X, y, test_size=0.20, shuffle=True, random_state=0)\n",
    "\n",
    "gcv = GridSearchCV(pipe, param_grid=param, scoring='f1', cv=KFold(n_splits=10, shuffle=True, random_state=0))\n",
    "gcv.fit(X_train, y_train)"
   ]
  },
  {
   "cell_type": "code",
   "execution_count": 43,
   "id": "adc534ee",
   "metadata": {
    "ExecuteTime": {
     "end_time": "2022-01-13T03:11:20.409035Z",
     "start_time": "2022-01-13T03:11:20.394075Z"
    },
    "scrolled": false
   },
   "outputs": [
    {
     "data": {
      "text/plain": [
       "{'model__colsample_bytree': 1,\n",
       " 'model__eta': 0.05,\n",
       " 'model__gamma': 0,\n",
       " 'model__max_depth': 9,\n",
       " 'model__min_child_weight': 1,\n",
       " 'model__n_estimators': 280,\n",
       " 'model__subsample': 1}"
      ]
     },
     "execution_count": 43,
     "metadata": {},
     "output_type": "execute_result"
    }
   ],
   "source": [
    "gcv.best_params_"
   ]
  },
  {
   "cell_type": "code",
   "execution_count": 44,
   "id": "b6a0cad3",
   "metadata": {
    "ExecuteTime": {
     "end_time": "2022-01-13T03:11:20.519489Z",
     "start_time": "2022-01-13T03:11:20.410033Z"
    }
   },
   "outputs": [
    {
     "data": {
      "text/plain": [
       "0.9258365935076922"
      ]
     },
     "execution_count": 44,
     "metadata": {},
     "output_type": "execute_result"
    }
   ],
   "source": [
    "gcv.best_score_"
   ]
  },
  {
   "cell_type": "markdown",
   "id": "757697b2",
   "metadata": {},
   "source": [
    "## 4.1. Final Model Tunned"
   ]
  },
  {
   "cell_type": "code",
   "execution_count": 45,
   "id": "46f7aac4",
   "metadata": {
    "ExecuteTime": {
     "end_time": "2022-01-13T03:11:20.939176Z",
     "start_time": "2022-01-13T03:11:20.521459Z"
    }
   },
   "outputs": [
    {
     "name": "stderr",
     "output_type": "stream",
     "text": [
      "C:\\Users\\leo_m\\anaconda3\\lib\\site-packages\\xgboost\\sklearn.py:1224: UserWarning: The use of label encoder in XGBClassifier is deprecated and will be removed in a future release. To remove this warning, do the following: 1) Pass option use_label_encoder=False when constructing XGBClassifier object; and 2) Encode your labels (y) as integers starting with 0, i.e. 0, 1, 2, ..., [num_class - 1].\n",
      "  warnings.warn(label_encoder_deprecation_msg, UserWarning)\n"
     ]
    },
    {
     "name": "stdout",
     "output_type": "stream",
     "text": [
      "[00:11:20] WARNING: C:/Users/Administrator/workspace/xgboost-win64_release_1.5.1/src/learner.cc:1115: Starting in XGBoost 1.3.0, the default evaluation metric used with the objective 'binary:logistic' was changed from 'error' to 'logloss'. Explicitly set eval_metric if you'd like to restore the old behavior.\n",
      "0.920353982300885\n"
     ]
    }
   ],
   "source": [
    "col = ColumnTransformer([\n",
    "    ('encoder', OneHotEncoder(), ['sexo', 'regiao', 'classificaçao_corporal','fase_da_vida', 'regiao_geral'])\n",
    "], remainder='passthrough')\n",
    "\n",
    "kwargs = {key.split('model__')[-1]:value for key, value in gcv.best_params_.items()}\n",
    "pipe = Pipeline([\n",
    "    ('col', col),\n",
    "    ('model', xgb.XGBClassifier(random_state=0, **kwargs))\n",
    "])\n",
    "\n",
    "pipe.fit(X_train, y_train)\n",
    "y_preds_ft = pipe.predict(X_test)\n",
    "print(f1_score(y_test, y_pred=y_preds_ft))"
   ]
  },
  {
   "cell_type": "code",
   "execution_count": 46,
   "id": "9a19db46",
   "metadata": {
    "ExecuteTime": {
     "end_time": "2022-01-13T03:11:20.955133Z",
     "start_time": "2022-01-13T03:11:20.940173Z"
    }
   },
   "outputs": [],
   "source": [
    "f1_score_xgb_ft = f1_score(y_test, y_pred=y_preds_ft)\n",
    "precision_xgb_ft = precision_score(y_test, y_preds_ft)\n",
    "recall_xgb_ft = recall_score(y_test, y_preds_ft)"
   ]
  },
  {
   "cell_type": "code",
   "execution_count": 47,
   "id": "e5aef7a9",
   "metadata": {
    "ExecuteTime": {
     "end_time": "2022-01-13T03:11:21.094852Z",
     "start_time": "2022-01-13T03:11:20.957128Z"
    }
   },
   "outputs": [
    {
     "data": {
      "text/html": [
       "<div>\n",
       "<style scoped>\n",
       "    .dataframe tbody tr th:only-of-type {\n",
       "        vertical-align: middle;\n",
       "    }\n",
       "\n",
       "    .dataframe tbody tr th {\n",
       "        vertical-align: top;\n",
       "    }\n",
       "\n",
       "    .dataframe thead th {\n",
       "        text-align: right;\n",
       "    }\n",
       "</style>\n",
       "<table border=\"1\" class=\"dataframe\">\n",
       "  <thead>\n",
       "    <tr style=\"text-align: right;\">\n",
       "      <th></th>\n",
       "      <th>Model Name</th>\n",
       "      <th>Precision</th>\n",
       "      <th>Recall</th>\n",
       "      <th>F1_score</th>\n",
       "    </tr>\n",
       "  </thead>\n",
       "  <tbody>\n",
       "    <tr>\n",
       "      <th>0</th>\n",
       "      <td>XGBClassifier</td>\n",
       "      <td>0.896552</td>\n",
       "      <td>0.945455</td>\n",
       "      <td>0.920354</td>\n",
       "    </tr>\n",
       "  </tbody>\n",
       "</table>\n",
       "</div>"
      ],
      "text/plain": [
       "      Model Name  Precision    Recall  F1_score\n",
       "0  XGBClassifier   0.896552  0.945455  0.920354"
      ]
     },
     "execution_count": 47,
     "metadata": {},
     "output_type": "execute_result"
    }
   ],
   "source": [
    "modelling_result_ft = ml_error('XGBClassifier', precision_xgb_ft, recall_xgb_ft, f1_score_xgb_ft )\n",
    "modelling_result_ft"
   ]
  },
  {
   "cell_type": "markdown",
   "id": "9980dff5",
   "metadata": {},
   "source": [
    "## 4.2. Final Model Tunned Oversampling the DataFrame"
   ]
  },
  {
   "cell_type": "code",
   "execution_count": 48,
   "id": "edf91f44",
   "metadata": {
    "ExecuteTime": {
     "end_time": "2022-01-13T03:11:37.342967Z",
     "start_time": "2022-01-13T03:11:37.041986Z"
    },
    "scrolled": true
   },
   "outputs": [
    {
     "name": "stderr",
     "output_type": "stream",
     "text": [
      "C:\\Users\\leo_m\\anaconda3\\lib\\site-packages\\xgboost\\sklearn.py:1224: UserWarning: The use of label encoder in XGBClassifier is deprecated and will be removed in a future release. To remove this warning, do the following: 1) Pass option use_label_encoder=False when constructing XGBClassifier object; and 2) Encode your labels (y) as integers starting with 0, i.e. 0, 1, 2, ..., [num_class - 1].\n",
      "  warnings.warn(label_encoder_deprecation_msg, UserWarning)\n"
     ]
    },
    {
     "name": "stdout",
     "output_type": "stream",
     "text": [
      "[00:11:37] WARNING: C:/Users/Administrator/workspace/xgboost-win64_release_1.5.1/src/learner.cc:1115: Starting in XGBoost 1.3.0, the default evaluation metric used with the objective 'binary:logistic' was changed from 'error' to 'logloss'. Explicitly set eval_metric if you'd like to restore the old behavior.\n",
      "0.9217391304347826\n"
     ]
    }
   ],
   "source": [
    "y_train_ = y_train[y_train == 1].sample(200).append(y_train)\n",
    "X_train_ = X_train.loc[y_train_.index]\n",
    "\n",
    "col = ColumnTransformer([\n",
    "    ('encoder', OneHotEncoder(), ['sexo', 'regiao', 'classificaçao_corporal','fase_da_vida', 'regiao_geral'])\n",
    "], remainder='passthrough')\n",
    "\n",
    "kwargs = {key.split('model__')[-1]:value for key, value in gcv.best_params_.items()}\n",
    "pipe = Pipeline([\n",
    "    ('col', col),\n",
    "    ('model', xgb.XGBClassifier(random_state=0, **kwargs))\n",
    "])\n",
    "\n",
    "pipe.fit(X_train_, y_train_)\n",
    "y_preds_ft = pipe.predict(X_test)\n",
    "print(f1_score(y_test, y_pred=y_preds_ft))"
   ]
  },
  {
   "cell_type": "code",
   "execution_count": 49,
   "id": "1cdde0a4",
   "metadata": {
    "ExecuteTime": {
     "end_time": "2022-01-13T03:11:37.357955Z",
     "start_time": "2022-01-13T03:11:37.345959Z"
    }
   },
   "outputs": [],
   "source": [
    "f1_score_xgb_ft = f1_score(y_test, y_pred=y_preds_ft)\n",
    "precision_xgb_ft = precision_score(y_test, y_preds_ft)\n",
    "recall_xgb_ft = recall_score(y_test, y_preds_ft)"
   ]
  },
  {
   "cell_type": "code",
   "execution_count": 50,
   "id": "b1d466c3",
   "metadata": {
    "ExecuteTime": {
     "end_time": "2022-01-13T03:11:37.483943Z",
     "start_time": "2022-01-13T03:11:37.359950Z"
    }
   },
   "outputs": [
    {
     "data": {
      "text/html": [
       "<div>\n",
       "<style scoped>\n",
       "    .dataframe tbody tr th:only-of-type {\n",
       "        vertical-align: middle;\n",
       "    }\n",
       "\n",
       "    .dataframe tbody tr th {\n",
       "        vertical-align: top;\n",
       "    }\n",
       "\n",
       "    .dataframe thead th {\n",
       "        text-align: right;\n",
       "    }\n",
       "</style>\n",
       "<table border=\"1\" class=\"dataframe\">\n",
       "  <thead>\n",
       "    <tr style=\"text-align: right;\">\n",
       "      <th></th>\n",
       "      <th>Model Name</th>\n",
       "      <th>Precision</th>\n",
       "      <th>Recall</th>\n",
       "      <th>F1_score</th>\n",
       "    </tr>\n",
       "  </thead>\n",
       "  <tbody>\n",
       "    <tr>\n",
       "      <th>0</th>\n",
       "      <td>XGBClassifier</td>\n",
       "      <td>0.883333</td>\n",
       "      <td>0.963636</td>\n",
       "      <td>0.921739</td>\n",
       "    </tr>\n",
       "  </tbody>\n",
       "</table>\n",
       "</div>"
      ],
      "text/plain": [
       "      Model Name  Precision    Recall  F1_score\n",
       "0  XGBClassifier   0.883333  0.963636  0.921739"
      ]
     },
     "execution_count": 50,
     "metadata": {},
     "output_type": "execute_result"
    }
   ],
   "source": [
    "modelling_result_ft = ml_error('XGBClassifier', precision_xgb_ft, recall_xgb_ft, f1_score_xgb_ft )\n",
    "modelling_result_ft"
   ]
  },
  {
   "cell_type": "markdown",
   "id": "240c5073",
   "metadata": {},
   "source": [
    "# 5. Passo 05 - WEBAPP"
   ]
  },
  {
   "cell_type": "code",
   "execution_count": 67,
   "id": "1631a681",
   "metadata": {
    "ExecuteTime": {
     "end_time": "2022-01-13T19:38:03.336327Z",
     "start_time": "2022-01-13T19:38:03.295408Z"
    }
   },
   "outputs": [
    {
     "data": {
      "text/plain": [
       "['C:/Users/leo_m/Repos/Projeto Menzoil/model/model_menzoil.pkl']"
      ]
     },
     "execution_count": 67,
     "metadata": {},
     "output_type": "execute_result"
    }
   ],
   "source": [
    "# Save Trained Model\n",
    "#pickle.dump( pipe, open( 'C:/Users/leo_m/Repos/Projeto Menzoil/model/model_menzoil.pkl', 'wb' ) )\n",
    "joblib.dump( pipe, 'C:/Users/leo_m/Repos/Projeto Menzoil/model/model_menzoil.pkl' )"
   ]
  },
  {
   "cell_type": "markdown",
   "id": "ac193dad",
   "metadata": {},
   "source": [
    "## 5.1. Webapp Menzoil Script"
   ]
  },
  {
   "cell_type": "code",
   "execution_count": null,
   "id": "b0581d8f",
   "metadata": {},
   "outputs": [],
   "source": [
    "import pandas                  as pd\n",
    "import streamlit               as st\n",
    "import joblib\n",
    "import inflection\n",
    "import seaborn                 as sns\n",
    "import numpy                   as np\n",
    "from sklearn.compose           import ColumnTransformer\n",
    "from sklearn.preprocessing     import OneHotEncoder\n",
    "from sklearn.pipeline          import Pipeline\n",
    "\n",
    "st.write(\"\"\"\n",
    "# MENZOIL WEBAPP - Classificação de pessoas fumantes ou não fumantes\n",
    "\"\"\")\n",
    "\n",
    "st.sidebar.title('Options')\n",
    "radio_button = st.sidebar.radio('Select:', ['Upload de tabela', 'Input de Dados'])\n",
    "best_model = joblib.load( 'C:/Users/leo_m/Repos/Projeto Menzoil/model/model_menzoil.pkl' )\n",
    "\n",
    "if radio_button == 'Upload de tabela':\n",
    "    try:\n",
    "        st.write(\"\"\"\n",
    "        ### Para classificar as pessoas carregue o arquivo CSV:\n",
    "        \"\"\")\n",
    "        uploaded_file = st.file_uploader(\"\")\n",
    "            \n",
    "        df_raw = pd.read_csv(uploaded_file)\n",
    "        df_etl = df_raw.copy()\n",
    "\n",
    "        # classificaçao_corporal\n",
    "        df_etl['Classificaçao_corporal'] = df_etl['IMC'].apply( lambda x: 'thinness' if x < 18.5  else 'normal' if (x >= 18.5) & (x < 24.9) else 'overweight' if (x >= 24.9) & (x < 30) else 'obese' )\n",
    "\n",
    "        # fase_da_vida\n",
    "        df_etl['Fase_da_vida'] = df_etl['Idade'].apply( lambda x: 'kid' if x < 12  else 'teenager' if (x >= 12) & (x < 18) else 'adult' if (x >= 18) & (x < 60) else 'elderly' )\n",
    "\n",
    "        # regiao_geral\n",
    "        df_etl['Regiao_geral'] = df_etl['Regiao'].apply( lambda x: 'south' if (x == 'southwest') or (x == 'southeast')  else 'north')\n",
    "\n",
    "        df1 = df_etl.copy()\n",
    "\n",
    "        cols_old = ['Idade', 'Sexo', 'IMC', 'Filhos', 'Regiao', 'Custos', 'Classificaçao_corporal', 'Fase_da_vida', 'Regiao_geral']\n",
    "\n",
    "        snakecase = lambda x: inflection.underscore( x )\n",
    "\n",
    "        cols_new = list( map( snakecase, cols_old ) )\n",
    "\n",
    "        # rename\n",
    "        df1.columns = cols_new\n",
    "\n",
    "        df3 = df1.copy()\n",
    "\n",
    "        y_preds = best_model.predict(df3)\n",
    "        y_preds = pd.DataFrame(data = y_preds)\n",
    "        y_preds = y_preds.rename(columns={0: 'Fumante'})\n",
    "        y_preds = y_preds.Fumante.map(lambda x: 'yes' if x == 1 else 'no')\n",
    "        y_preds = pd.DataFrame(data = y_preds)\n",
    "\n",
    "        df_test = pd.concat( [df_raw, y_preds], axis=1)\n",
    "        st.dataframe(df_test)\n",
    "\n",
    "    except:\n",
    "        \n",
    "        st.stop()\n",
    "\n",
    "\n",
    "elif radio_button == 'Input de Dados':\n",
    "\n",
    "    with st.form(\"unit_form\"):\n",
    "        st.write(\"\"\"\n",
    "        ### Preencha com os dados do caso:\n",
    "        \"\"\")\n",
    "        idade = st.slider(\"Idade\", min_value=1, max_value=100, value=18)\n",
    "        sexo = st.selectbox('Sexo', ('male', 'female'))\n",
    "        imc = st.number_input(\"IMC\", value=15.0, step=0.1, format=\"%.4f\")\n",
    "        filhos = st.slider(\"Filhos\", min_value=0, max_value=10, value=0)\n",
    "        regiao = st.selectbox('Região', ('southwest', 'southeast', 'northwest', 'northeast'))\n",
    "        custos = st.number_input(\"Custos\", value=1100.0, step=0.1, format=\"%.5f\")\n",
    "        \n",
    "\n",
    "        # Every form must have a submit button.\n",
    "        submitted = st.form_submit_button(\"Submit\")\n",
    "        if submitted:\n",
    "            df = pd.DataFrame([[idade, sexo, imc, filhos, regiao, custos]], columns=['Idade', 'Sexo', 'IMC', 'Filhos', 'Regiao', 'Custos'])\n",
    "            print(df)\n",
    "            # classificaçao_corporal\n",
    "            df['Classificaçao_corporal'] = df['IMC'].apply( lambda x: 'thinness' if x < 18.5  else 'normal' if (x >= 18.5) & (x < 24.9) else 'overweight' if (x >= 24.9) & (x < 30) else 'obese' )\n",
    "\n",
    "            # fase_da_vida\n",
    "            df['Fase_da_vida'] = df['Idade'].apply( lambda x: 'kid' if x < 12  else 'teenager' if (x >= 12) & (x < 18) else 'adult' if (x >= 18) & (x < 60) else 'elderly' )\n",
    "\n",
    "            # regiao_geral\n",
    "            df['Regiao_geral'] = df['Regiao'].apply( lambda x: 'south' if (x == 'southwest') or (x == 'southeast')  else 'north')\n",
    "\n",
    "\n",
    "            cols_old = ['Idade', 'Sexo', 'IMC', 'Filhos', 'Regiao', 'Custos', 'Classificaçao_corporal', 'Fase_da_vida', 'Regiao_geral']\n",
    "\n",
    "            snakecase = lambda x: inflection.underscore( x )\n",
    "\n",
    "            cols_new = list( map( snakecase, cols_old ) )\n",
    "\n",
    "            # rename\n",
    "            df.columns = cols_new\n",
    "            \n",
    "\n",
    "            y_preds = best_model.predict(df)\n",
    "            y_preds = pd.DataFrame(data = y_preds)\n",
    "            y_preds = y_preds.rename(columns={0: 'Fumante'})\n",
    "            y_preds = y_preds.Fumante.map(lambda x: 'yes' if x == 1 else 'no')\n",
    "            y_preds = pd.DataFrame(data = y_preds)\n",
    "\n",
    "            cols_old = ['idade', 'sexo', 'imc', 'filhos', 'regiao', 'custos', 'classificaçao_corporal', 'fase_da_vida', 'regiao_geral']\n",
    "\n",
    "            snakecase = lambda x: inflection.humanize( x )\n",
    "\n",
    "            cols_new = list( map( snakecase, cols_old ) )\n",
    "\n",
    "            # rename\n",
    "            df.columns = cols_new\n",
    "                    \n",
    "\n",
    "            df_test = pd.concat( [df[['Idade', 'Sexo','Imc','Filhos','Regiao','Custos']], y_preds], axis=1)\n",
    "            st.dataframe(df_test)\n"
   ]
  },
  {
   "cell_type": "code",
   "execution_count": null,
   "id": "a1a4133a",
   "metadata": {},
   "outputs": [],
   "source": []
  },
  {
   "cell_type": "code",
   "execution_count": null,
   "id": "a7746777",
   "metadata": {},
   "outputs": [],
   "source": []
  },
  {
   "cell_type": "code",
   "execution_count": null,
   "id": "9136f37e",
   "metadata": {},
   "outputs": [],
   "source": []
  },
  {
   "cell_type": "code",
   "execution_count": null,
   "id": "b9bbb9cb",
   "metadata": {},
   "outputs": [],
   "source": []
  },
  {
   "cell_type": "code",
   "execution_count": null,
   "id": "73f44ba9",
   "metadata": {},
   "outputs": [],
   "source": []
  },
  {
   "cell_type": "code",
   "execution_count": null,
   "id": "573b08b0",
   "metadata": {},
   "outputs": [],
   "source": []
  },
  {
   "cell_type": "code",
   "execution_count": null,
   "id": "7bd4c8a4",
   "metadata": {},
   "outputs": [],
   "source": []
  }
 ],
 "metadata": {
  "kernelspec": {
   "display_name": "Python 3",
   "language": "python",
   "name": "python3"
  },
  "language_info": {
   "codemirror_mode": {
    "name": "ipython",
    "version": 3
   },
   "file_extension": ".py",
   "mimetype": "text/x-python",
   "name": "python",
   "nbconvert_exporter": "python",
   "pygments_lexer": "ipython3",
   "version": "3.8.8"
  },
  "toc": {
   "base_numbering": 1,
   "nav_menu": {},
   "number_sections": false,
   "sideBar": true,
   "skip_h1_title": false,
   "title_cell": "Table of Contents",
   "title_sidebar": "Contents",
   "toc_cell": false,
   "toc_position": {
    "height": "calc(100% - 180px)",
    "left": "10px",
    "top": "150px",
    "width": "165px"
   },
   "toc_section_display": true,
   "toc_window_display": true
  },
  "varInspector": {
   "cols": {
    "lenName": 16,
    "lenType": 16,
    "lenVar": 40
   },
   "kernels_config": {
    "python": {
     "delete_cmd_postfix": "",
     "delete_cmd_prefix": "del ",
     "library": "var_list.py",
     "varRefreshCmd": "print(var_dic_list())"
    },
    "r": {
     "delete_cmd_postfix": ") ",
     "delete_cmd_prefix": "rm(",
     "library": "var_list.r",
     "varRefreshCmd": "cat(var_dic_list()) "
    }
   },
   "types_to_exclude": [
    "module",
    "function",
    "builtin_function_or_method",
    "instance",
    "_Feature"
   ],
   "window_display": false
  }
 },
 "nbformat": 4,
 "nbformat_minor": 5
}
